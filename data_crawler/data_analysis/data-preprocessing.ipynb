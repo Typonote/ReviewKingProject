{
 "cells": [
  {
   "cell_type": "markdown",
   "source": [
    "# Import DATA"
   ],
   "metadata": {}
  },
  {
   "cell_type": "code",
   "execution_count": 1,
   "source": [
    "import os\n",
    "import pandas as pd\n",
    "\n",
    "os.chdir('../siksin')\n",
    "from restaurant_url import sikshin_restaurant_url_src as siksin\n",
    "from restaurant_review import siksin_review_list\n",
    "\n",
    "ss_data = pd.DataFrame(siksin, columns=[\"name\", \"url\", \"img_url\", \"total_rating\"])\n",
    "ss_review = pd.DataFrame(siksin_review_list, columns=[\"platform\", \"name\", \"rating\", \"comment\"]).drop_duplicates()\n",
    "\n",
    "os.chdir('../kakao')\n",
    "from kakao_restaurant import kakao_list as kakao\n",
    "from kakao_restaurant_review import kakao_review_list as kakao_review\n",
    "\n",
    "k_data = pd.DataFrame(kakao, columns=[\"name\", \"category\", \"total_rating\", \"rating_count\", \"img_url\"])\n",
    "k_review = pd.DataFrame(kakao_review, columns=[\"platform\", \"name\", \"rating\", \"rating_date\", \"comment\"]).drop_duplicates()\n",
    "\n",
    "os.chdir('../mangoplate')\n",
    "\n",
    "m_data = pd.read_csv(\"mango_restaurant.csv\", header=0, names=[\"name\", \"total_rating\", \"category\", \"img_url\"])\n",
    "m_review = pd.read_csv(\"mangoplate_review.csv\", header=0, names=[\"name\", \"rating_date\", \"comment\", \"rating\"]).drop_duplicates()\n",
    "\n",
    "os.chdir('../naver')\n",
    "\n",
    "n_data = pd.read_csv(\"naver_restaurant.csv\", header=0, names=[\"name\", \"category\", \"total_rating\"], usecols=[0, 1, 2])\n",
    "n_review = pd.read_csv(\"naver_review.csv\", header=0, names=[\"name\", \"rating_date\", \"comment\", \"rating\"])\n",
    "n_review = n_review.append(pd.read_csv(\"naver_review_by_tab.csv\", header=0, names=[\"name\", \"rating_date\", \"comment\", \"rating\"], sep=\"\\t\"), ignore_index=True).drop_duplicates()\n",
    "\n",
    "os.chdir(\"../data_analysis\")\n",
    "\n",
    "ss_data[\"platform\"] = \"siksin\"\n",
    "n_data[\"platform\"] = \"naver\"\n",
    "k_data[\"platform\"] = \"kakao\"\n",
    "m_data[\"platform\"] = \"mango\"\n",
    "\n",
    "display(k_review.info(), ss_review.info(), m_review.info(), n_review.info(), ss_data.head(1), k_data.head(1), m_data.head(1), n_data.head(1), n_review.head(1))"
   ],
   "outputs": [
    {
     "output_type": "stream",
     "name": "stdout",
     "text": [
      "<class 'pandas.core.frame.DataFrame'>\n",
      "Int64Index: 7214 entries, 0 to 7219\n",
      "Data columns (total 5 columns):\n",
      " #   Column       Non-Null Count  Dtype \n",
      "---  ------       --------------  ----- \n",
      " 0   platform     7214 non-null   object\n",
      " 1   name         7214 non-null   object\n",
      " 2   rating       7214 non-null   int64 \n",
      " 3   rating_date  7214 non-null   object\n",
      " 4   comment      7214 non-null   object\n",
      "dtypes: int64(1), object(4)\n",
      "memory usage: 338.2+ KB\n",
      "<class 'pandas.core.frame.DataFrame'>\n",
      "Int64Index: 1963 entries, 0 to 2041\n",
      "Data columns (total 4 columns):\n",
      " #   Column    Non-Null Count  Dtype \n",
      "---  ------    --------------  ----- \n",
      " 0   platform  1963 non-null   object\n",
      " 1   name      1963 non-null   object\n",
      " 2   rating    1963 non-null   object\n",
      " 3   comment   1963 non-null   object\n",
      "dtypes: object(4)\n",
      "memory usage: 76.7+ KB\n",
      "<class 'pandas.core.frame.DataFrame'>\n",
      "Int64Index: 2917 entries, 0 to 2922\n",
      "Data columns (total 4 columns):\n",
      " #   Column       Non-Null Count  Dtype \n",
      "---  ------       --------------  ----- \n",
      " 0   name         2917 non-null   object\n",
      " 1   rating_date  2917 non-null   object\n",
      " 2   comment      2917 non-null   object\n",
      " 3   rating       2917 non-null   int64 \n",
      "dtypes: int64(1), object(3)\n",
      "memory usage: 113.9+ KB\n",
      "<class 'pandas.core.frame.DataFrame'>\n",
      "Int64Index: 17660 entries, 0 to 21032\n",
      "Data columns (total 4 columns):\n",
      " #   Column       Non-Null Count  Dtype  \n",
      "---  ------       --------------  -----  \n",
      " 0   name         17660 non-null  object \n",
      " 1   rating_date  17660 non-null  object \n",
      " 2   comment      17285 non-null  object \n",
      " 3   rating       17660 non-null  float64\n",
      "dtypes: float64(1), object(3)\n",
      "memory usage: 689.8+ KB\n"
     ]
    },
    {
     "output_type": "display_data",
     "data": {
      "text/plain": [
       "None"
      ]
     },
     "metadata": {}
    },
    {
     "output_type": "display_data",
     "data": {
      "text/plain": [
       "None"
      ]
     },
     "metadata": {}
    },
    {
     "output_type": "display_data",
     "data": {
      "text/plain": [
       "None"
      ]
     },
     "metadata": {}
    },
    {
     "output_type": "display_data",
     "data": {
      "text/plain": [
       "None"
      ]
     },
     "metadata": {}
    },
    {
     "output_type": "display_data",
     "data": {
      "text/html": [
       "<div>\n",
       "<style scoped>\n",
       "    .dataframe tbody tr th:only-of-type {\n",
       "        vertical-align: middle;\n",
       "    }\n",
       "\n",
       "    .dataframe tbody tr th {\n",
       "        vertical-align: top;\n",
       "    }\n",
       "\n",
       "    .dataframe thead th {\n",
       "        text-align: right;\n",
       "    }\n",
       "</style>\n",
       "<table border=\"1\" class=\"dataframe\">\n",
       "  <thead>\n",
       "    <tr style=\"text-align: right;\">\n",
       "      <th></th>\n",
       "      <th>name</th>\n",
       "      <th>url</th>\n",
       "      <th>img_url</th>\n",
       "      <th>total_rating</th>\n",
       "      <th>platform</th>\n",
       "    </tr>\n",
       "  </thead>\n",
       "  <tbody>\n",
       "    <tr>\n",
       "      <th>0</th>\n",
       "      <td>하남돼지집 선릉역삼점</td>\n",
       "      <td>https://www.siksinhot.com/P/369301</td>\n",
       "      <td>https://img.siksinhot.com/place/14639799276066...</td>\n",
       "      <td>4.3</td>\n",
       "      <td>siksin</td>\n",
       "    </tr>\n",
       "  </tbody>\n",
       "</table>\n",
       "</div>"
      ],
      "text/plain": [
       "          name                                 url  \\\n",
       "0  하남돼지집 선릉역삼점  https://www.siksinhot.com/P/369301   \n",
       "\n",
       "                                             img_url total_rating platform  \n",
       "0  https://img.siksinhot.com/place/14639799276066...          4.3   siksin  "
      ]
     },
     "metadata": {}
    },
    {
     "output_type": "display_data",
     "data": {
      "text/html": [
       "<div>\n",
       "<style scoped>\n",
       "    .dataframe tbody tr th:only-of-type {\n",
       "        vertical-align: middle;\n",
       "    }\n",
       "\n",
       "    .dataframe tbody tr th {\n",
       "        vertical-align: top;\n",
       "    }\n",
       "\n",
       "    .dataframe thead th {\n",
       "        text-align: right;\n",
       "    }\n",
       "</style>\n",
       "<table border=\"1\" class=\"dataframe\">\n",
       "  <thead>\n",
       "    <tr style=\"text-align: right;\">\n",
       "      <th></th>\n",
       "      <th>name</th>\n",
       "      <th>category</th>\n",
       "      <th>total_rating</th>\n",
       "      <th>rating_count</th>\n",
       "      <th>img_url</th>\n",
       "      <th>platform</th>\n",
       "    </tr>\n",
       "  </thead>\n",
       "  <tbody>\n",
       "    <tr>\n",
       "      <th>0</th>\n",
       "      <td>뽕나무쟁이 선릉본점</td>\n",
       "      <td>족발,보쌈</td>\n",
       "      <td>4.1</td>\n",
       "      <td>111</td>\n",
       "      <td>https://place.map.kakao.com/11190567</td>\n",
       "      <td>kakao</td>\n",
       "    </tr>\n",
       "  </tbody>\n",
       "</table>\n",
       "</div>"
      ],
      "text/plain": [
       "         name category  total_rating  rating_count  \\\n",
       "0  뽕나무쟁이 선릉본점    족발,보쌈           4.1           111   \n",
       "\n",
       "                                img_url platform  \n",
       "0  https://place.map.kakao.com/11190567    kakao  "
      ]
     },
     "metadata": {}
    },
    {
     "output_type": "display_data",
     "data": {
      "text/html": [
       "<div>\n",
       "<style scoped>\n",
       "    .dataframe tbody tr th:only-of-type {\n",
       "        vertical-align: middle;\n",
       "    }\n",
       "\n",
       "    .dataframe tbody tr th {\n",
       "        vertical-align: top;\n",
       "    }\n",
       "\n",
       "    .dataframe thead th {\n",
       "        text-align: right;\n",
       "    }\n",
       "</style>\n",
       "<table border=\"1\" class=\"dataframe\">\n",
       "  <thead>\n",
       "    <tr style=\"text-align: right;\">\n",
       "      <th></th>\n",
       "      <th>name</th>\n",
       "      <th>total_rating</th>\n",
       "      <th>category</th>\n",
       "      <th>img_url</th>\n",
       "      <th>platform</th>\n",
       "    </tr>\n",
       "  </thead>\n",
       "  <tbody>\n",
       "    <tr>\n",
       "      <th>0</th>\n",
       "      <td>모찌방</td>\n",
       "      <td>4.4</td>\n",
       "      <td>카페/디저트</td>\n",
       "      <td>https://mp-seoul-image-production-s3.mangoplat...</td>\n",
       "      <td>mango</td>\n",
       "    </tr>\n",
       "  </tbody>\n",
       "</table>\n",
       "</div>"
      ],
      "text/plain": [
       "  name  total_rating category  \\\n",
       "0  모찌방           4.4   카페/디저트   \n",
       "\n",
       "                                             img_url platform  \n",
       "0  https://mp-seoul-image-production-s3.mangoplat...    mango  "
      ]
     },
     "metadata": {}
    },
    {
     "output_type": "display_data",
     "data": {
      "text/html": [
       "<div>\n",
       "<style scoped>\n",
       "    .dataframe tbody tr th:only-of-type {\n",
       "        vertical-align: middle;\n",
       "    }\n",
       "\n",
       "    .dataframe tbody tr th {\n",
       "        vertical-align: top;\n",
       "    }\n",
       "\n",
       "    .dataframe thead th {\n",
       "        text-align: right;\n",
       "    }\n",
       "</style>\n",
       "<table border=\"1\" class=\"dataframe\">\n",
       "  <thead>\n",
       "    <tr style=\"text-align: right;\">\n",
       "      <th></th>\n",
       "      <th>name</th>\n",
       "      <th>category</th>\n",
       "      <th>total_rating</th>\n",
       "      <th>platform</th>\n",
       "    </tr>\n",
       "  </thead>\n",
       "  <tbody>\n",
       "    <tr>\n",
       "      <th>0</th>\n",
       "      <td>도쿄등심 선릉점</td>\n",
       "      <td>소고기구이</td>\n",
       "      <td>4.51</td>\n",
       "      <td>naver</td>\n",
       "    </tr>\n",
       "  </tbody>\n",
       "</table>\n",
       "</div>"
      ],
      "text/plain": [
       "       name category  total_rating platform\n",
       "0  도쿄등심 선릉점    소고기구이          4.51    naver"
      ]
     },
     "metadata": {}
    },
    {
     "output_type": "display_data",
     "data": {
      "text/html": [
       "<div>\n",
       "<style scoped>\n",
       "    .dataframe tbody tr th:only-of-type {\n",
       "        vertical-align: middle;\n",
       "    }\n",
       "\n",
       "    .dataframe tbody tr th {\n",
       "        vertical-align: top;\n",
       "    }\n",
       "\n",
       "    .dataframe thead th {\n",
       "        text-align: right;\n",
       "    }\n",
       "</style>\n",
       "<table border=\"1\" class=\"dataframe\">\n",
       "  <thead>\n",
       "    <tr style=\"text-align: right;\">\n",
       "      <th></th>\n",
       "      <th>name</th>\n",
       "      <th>rating_date</th>\n",
       "      <th>comment</th>\n",
       "      <th>rating</th>\n",
       "    </tr>\n",
       "  </thead>\n",
       "  <tbody>\n",
       "    <tr>\n",
       "      <th>0</th>\n",
       "      <td>명품유쾌 강남본점</td>\n",
       "      <td>2021.09.11</td>\n",
       "      <td>NaN</td>\n",
       "      <td>5.0</td>\n",
       "    </tr>\n",
       "  </tbody>\n",
       "</table>\n",
       "</div>"
      ],
      "text/plain": [
       "        name rating_date comment  rating\n",
       "0  명품유쾌 강남본점  2021.09.11     NaN     5.0"
      ]
     },
     "metadata": {}
    }
   ],
   "metadata": {}
  },
  {
   "cell_type": "markdown",
   "source": [
    "# 2개 이상의 플랫폼에서 리뷰를 가져온 음식점 찾기"
   ],
   "metadata": {}
  },
  {
   "cell_type": "code",
   "execution_count": 2,
   "source": [
    "display(k_review[\"name\"].nunique(), ss_review[\"name\"].nunique(), m_review[\"name\"].nunique(), n_review[\"name\"].nunique())"
   ],
   "outputs": [
    {
     "output_type": "display_data",
     "data": {
      "text/plain": [
       "495"
      ]
     },
     "metadata": {}
    },
    {
     "output_type": "display_data",
     "data": {
      "text/plain": [
       "147"
      ]
     },
     "metadata": {}
    },
    {
     "output_type": "display_data",
     "data": {
      "text/plain": [
       "193"
      ]
     },
     "metadata": {}
    },
    {
     "output_type": "display_data",
     "data": {
      "text/plain": [
       "158"
      ]
     },
     "metadata": {}
    }
   ],
   "metadata": {}
  },
  {
   "cell_type": "code",
   "execution_count": 3,
   "source": [
    "print(n_review[\"name\"].nunique())"
   ],
   "outputs": [
    {
     "output_type": "stream",
     "name": "stdout",
     "text": [
      "158\n"
     ]
    }
   ],
   "metadata": {}
  },
  {
   "cell_type": "code",
   "execution_count": 4,
   "source": [
    "ss_names = set(ss_data[\"name\"])\n",
    "k_names = set(k_data[\"name\"])\n",
    "m_names = set(m_data[\"name\"])\n",
    "n_names = set(n_data[\"name\"])\n",
    "\n",
    "kn_names = k_names.union(n_names)\n",
    "print(len(list(kn_names)))\n",
    "\n",
    "knm_names = kn_names.union(m_names)\n",
    "print(len(list(knm_names)))\n",
    "\n",
    "all_names = knm_names.union(ss_names)\n",
    "print(len(list(all_names)))"
   ],
   "outputs": [
    {
     "output_type": "stream",
     "name": "stdout",
     "text": [
      "659\n",
      "782\n",
      "891\n"
     ]
    }
   ],
   "metadata": {}
  },
  {
   "cell_type": "code",
   "execution_count": 5,
   "source": [
    "ss_np = ss_data[[\"name\", \"platform\"]].set_index('name').rename(columns={\"platform\":\"ss_platform\"})\n",
    "n_np = n_data[[\"name\", \"platform\"]].set_index('name').rename(columns={\"platform\":\"n_platform\"})\n",
    "k_np = k_data[[\"name\", \"platform\"]].set_index('name').rename(columns={\"platform\":\"k_platform\"})\n",
    "m_np = m_data[[\"name\", \"platform\"]].set_index('name').rename(columns={\"platform\":\"m_platform\"})"
   ],
   "outputs": [],
   "metadata": {}
  },
  {
   "cell_type": "code",
   "execution_count": 6,
   "source": [
    "kn_np = k_np.join(n_np)\n",
    "knm_np = kn_np.join(m_np)\n",
    "all_np = knm_np.join(ss_np)\n",
    "all_np\n"
   ],
   "outputs": [
    {
     "output_type": "execute_result",
     "data": {
      "text/html": [
       "<div>\n",
       "<style scoped>\n",
       "    .dataframe tbody tr th:only-of-type {\n",
       "        vertical-align: middle;\n",
       "    }\n",
       "\n",
       "    .dataframe tbody tr th {\n",
       "        vertical-align: top;\n",
       "    }\n",
       "\n",
       "    .dataframe thead th {\n",
       "        text-align: right;\n",
       "    }\n",
       "</style>\n",
       "<table border=\"1\" class=\"dataframe\">\n",
       "  <thead>\n",
       "    <tr style=\"text-align: right;\">\n",
       "      <th></th>\n",
       "      <th>k_platform</th>\n",
       "      <th>n_platform</th>\n",
       "      <th>m_platform</th>\n",
       "      <th>ss_platform</th>\n",
       "    </tr>\n",
       "    <tr>\n",
       "      <th>name</th>\n",
       "      <th></th>\n",
       "      <th></th>\n",
       "      <th></th>\n",
       "      <th></th>\n",
       "    </tr>\n",
       "  </thead>\n",
       "  <tbody>\n",
       "    <tr>\n",
       "      <th>1260이베리코흑돼지 강남직영점</th>\n",
       "      <td>kakao</td>\n",
       "      <td>NaN</td>\n",
       "      <td>NaN</td>\n",
       "      <td>NaN</td>\n",
       "    </tr>\n",
       "    <tr>\n",
       "      <th>24시와구아구</th>\n",
       "      <td>kakao</td>\n",
       "      <td>NaN</td>\n",
       "      <td>NaN</td>\n",
       "      <td>NaN</td>\n",
       "    </tr>\n",
       "    <tr>\n",
       "      <th>60년전통 신촌황소곱창 선릉직영점</th>\n",
       "      <td>kakao</td>\n",
       "      <td>NaN</td>\n",
       "      <td>NaN</td>\n",
       "      <td>NaN</td>\n",
       "    </tr>\n",
       "    <tr>\n",
       "      <th>7%칠백식당 포스코직영점</th>\n",
       "      <td>kakao</td>\n",
       "      <td>NaN</td>\n",
       "      <td>NaN</td>\n",
       "      <td>NaN</td>\n",
       "    </tr>\n",
       "    <tr>\n",
       "      <th>705사케집 선릉점</th>\n",
       "      <td>kakao</td>\n",
       "      <td>NaN</td>\n",
       "      <td>NaN</td>\n",
       "      <td>NaN</td>\n",
       "    </tr>\n",
       "    <tr>\n",
       "      <th>...</th>\n",
       "      <td>...</td>\n",
       "      <td>...</td>\n",
       "      <td>...</td>\n",
       "      <td>...</td>\n",
       "    </tr>\n",
       "    <tr>\n",
       "      <th>후웨이즈텐카민</th>\n",
       "      <td>kakao</td>\n",
       "      <td>NaN</td>\n",
       "      <td>NaN</td>\n",
       "      <td>NaN</td>\n",
       "    </tr>\n",
       "    <tr>\n",
       "      <th>후지</th>\n",
       "      <td>kakao</td>\n",
       "      <td>NaN</td>\n",
       "      <td>NaN</td>\n",
       "      <td>NaN</td>\n",
       "    </tr>\n",
       "    <tr>\n",
       "      <th>흑돈가 삼성역점</th>\n",
       "      <td>kakao</td>\n",
       "      <td>NaN</td>\n",
       "      <td>NaN</td>\n",
       "      <td>NaN</td>\n",
       "    </tr>\n",
       "    <tr>\n",
       "      <th>희 카롱</th>\n",
       "      <td>kakao</td>\n",
       "      <td>NaN</td>\n",
       "      <td>NaN</td>\n",
       "      <td>NaN</td>\n",
       "    </tr>\n",
       "    <tr>\n",
       "      <th>히라이 선릉점</th>\n",
       "      <td>kakao</td>\n",
       "      <td>NaN</td>\n",
       "      <td>NaN</td>\n",
       "      <td>NaN</td>\n",
       "    </tr>\n",
       "  </tbody>\n",
       "</table>\n",
       "<p>504 rows × 4 columns</p>\n",
       "</div>"
      ],
      "text/plain": [
       "                   k_platform n_platform m_platform ss_platform\n",
       "name                                                           \n",
       "1260이베리코흑돼지 강남직영점       kakao        NaN        NaN         NaN\n",
       "24시와구아구                 kakao        NaN        NaN         NaN\n",
       "60년전통 신촌황소곱창 선릉직영점      kakao        NaN        NaN         NaN\n",
       "7%칠백식당 포스코직영점           kakao        NaN        NaN         NaN\n",
       "705사케집 선릉점              kakao        NaN        NaN         NaN\n",
       "...                       ...        ...        ...         ...\n",
       "후웨이즈텐카민                 kakao        NaN        NaN         NaN\n",
       "후지                      kakao        NaN        NaN         NaN\n",
       "흑돈가 삼성역점                kakao        NaN        NaN         NaN\n",
       "희 카롱                    kakao        NaN        NaN         NaN\n",
       "히라이 선릉점                 kakao        NaN        NaN         NaN\n",
       "\n",
       "[504 rows x 4 columns]"
      ]
     },
     "metadata": {},
     "execution_count": 6
    }
   ],
   "metadata": {}
  },
  {
   "cell_type": "code",
   "execution_count": 7,
   "source": [
    "all_count = pd.DataFrame(4 - all_np.isnull().sum(axis = 1), columns=[\"count\"])\n",
    "all_count"
   ],
   "outputs": [
    {
     "output_type": "execute_result",
     "data": {
      "text/html": [
       "<div>\n",
       "<style scoped>\n",
       "    .dataframe tbody tr th:only-of-type {\n",
       "        vertical-align: middle;\n",
       "    }\n",
       "\n",
       "    .dataframe tbody tr th {\n",
       "        vertical-align: top;\n",
       "    }\n",
       "\n",
       "    .dataframe thead th {\n",
       "        text-align: right;\n",
       "    }\n",
       "</style>\n",
       "<table border=\"1\" class=\"dataframe\">\n",
       "  <thead>\n",
       "    <tr style=\"text-align: right;\">\n",
       "      <th></th>\n",
       "      <th>count</th>\n",
       "    </tr>\n",
       "    <tr>\n",
       "      <th>name</th>\n",
       "      <th></th>\n",
       "    </tr>\n",
       "  </thead>\n",
       "  <tbody>\n",
       "    <tr>\n",
       "      <th>1260이베리코흑돼지 강남직영점</th>\n",
       "      <td>1</td>\n",
       "    </tr>\n",
       "    <tr>\n",
       "      <th>24시와구아구</th>\n",
       "      <td>1</td>\n",
       "    </tr>\n",
       "    <tr>\n",
       "      <th>60년전통 신촌황소곱창 선릉직영점</th>\n",
       "      <td>1</td>\n",
       "    </tr>\n",
       "    <tr>\n",
       "      <th>7%칠백식당 포스코직영점</th>\n",
       "      <td>1</td>\n",
       "    </tr>\n",
       "    <tr>\n",
       "      <th>705사케집 선릉점</th>\n",
       "      <td>1</td>\n",
       "    </tr>\n",
       "    <tr>\n",
       "      <th>...</th>\n",
       "      <td>...</td>\n",
       "    </tr>\n",
       "    <tr>\n",
       "      <th>후웨이즈텐카민</th>\n",
       "      <td>1</td>\n",
       "    </tr>\n",
       "    <tr>\n",
       "      <th>후지</th>\n",
       "      <td>1</td>\n",
       "    </tr>\n",
       "    <tr>\n",
       "      <th>흑돈가 삼성역점</th>\n",
       "      <td>1</td>\n",
       "    </tr>\n",
       "    <tr>\n",
       "      <th>희 카롱</th>\n",
       "      <td>1</td>\n",
       "    </tr>\n",
       "    <tr>\n",
       "      <th>히라이 선릉점</th>\n",
       "      <td>1</td>\n",
       "    </tr>\n",
       "  </tbody>\n",
       "</table>\n",
       "<p>504 rows × 1 columns</p>\n",
       "</div>"
      ],
      "text/plain": [
       "                    count\n",
       "name                     \n",
       "1260이베리코흑돼지 강남직영점       1\n",
       "24시와구아구                 1\n",
       "60년전통 신촌황소곱창 선릉직영점      1\n",
       "7%칠백식당 포스코직영점           1\n",
       "705사케집 선릉점              1\n",
       "...                   ...\n",
       "후웨이즈텐카민                 1\n",
       "후지                      1\n",
       "흑돈가 삼성역점                1\n",
       "희 카롱                    1\n",
       "히라이 선릉점                 1\n",
       "\n",
       "[504 rows x 1 columns]"
      ]
     },
     "metadata": {},
     "execution_count": 7
    }
   ],
   "metadata": {}
  },
  {
   "cell_type": "code",
   "execution_count": 8,
   "source": [
    "all_count.value_counts()"
   ],
   "outputs": [
    {
     "output_type": "execute_result",
     "data": {
      "text/plain": [
       "count\n",
       "1        318\n",
       "2        112\n",
       "3         48\n",
       "4         26\n",
       "dtype: int64"
      ]
     },
     "metadata": {},
     "execution_count": 8
    }
   ],
   "metadata": {}
  },
  {
   "cell_type": "code",
   "execution_count": 9,
   "source": [
    "review_only_one = all_count[all_count[\"count\"] == 1]\n",
    "name_only_one_list = set(review_only_one.index)\n",
    "print(name_only_one_list, len(name_only_one_list))"
   ],
   "outputs": [
    {
     "output_type": "stream",
     "name": "stdout",
     "text": [
      "{'해우리 선릉L7점', '항아리보쌈 선릉점', '교동전선생 선릉역점', '맑은바닷가', 'CSI VR방탈출카페 대치선릉점', '보름쇠 삼성점', '백수산', '멜로워 역삼더퍼스트', '수다 삼성2호점', '카페레꼴뜨', '플로팅 L7강남점', '커피빈 선릉역3번출구세방빌딩점', '마녀김밥 대치점', '우시야 역삼점', '우진가 더 챔버스', '일등추어탕', '피쉬스타 역삼점', '낭만옵빠 선릉점', '여수동촌 대치점', '문배동육칼 삼성직영점', '버거킹 선릉역점(2021년10월27일까지 휴업)', '해담일식', '금수복국 대치점', '브루클린더버거조인트 삼성점', '란수사', '그란구스또', '탐라도야지', '삼육가 삼성역점', '나따오비까 대치점', '돝고기506', '삼호복집', 'JVL부대찌개 포스코점', '타이거슈가 삼성로점', '파리바게뜨 선릉진선점', '피양콩할마니 본점', '김태주선산곱창 강남점', '영동떡볶이', '소공순대', '바우한우', '클럽케이서울', '수담한정식', '신동궁감자탕뼈숯불구이 선릉직영점', '고메고매 선릉직영점', '삼다족발', '소라야', '호타루 선릉점', '이자카야나무 선릉점', '네모오징어 선릉점', '코이라멘 한티역점', '카페베네 선릉역점', '맥주를듣는사람들 아크 선릉점', '레이어프로젝트', '미즈호노 스시야 대치점', '김양', '팀호완 삼성점', '사까나야바로바로 선릉점', '바나프레소 선정릉점', '난만', '이가네양꼬치 대치동점', '본죽 선릉역점', '올툰24시만화카페 선릉점', '황우양대창', '최가네버섯샤브매운탕칼국수 대치점', '춘이네닭도리탕 동생1호선릉직영점', '스시류', '도마다리뼈다귀감자탕', '할리스 선릉샹제리제점', '빽다방 선릉중앙점', '흑돈가 삼성역점', '예천 유산균한우정육타운', '88노가리 선릉본점', '사주테라피', '싸프란겔', '포레스트힐링카페', '식물원282', '행복김밥', '쫀득이족발', '마담밍 선릉점', '봉산집', '오레노 선릉점', '수림복국 본관', '명동피자 대치점', '교대이층집 삼성점', '7%칠백식당 포스코직영점', '대치정육식당 본점', '육시리 역삼본점', '강남묵호등대', '밀도 한티역점', '개그맨정용국의용곱창', '누구나홀딱반한닭 선릉점', '빽다방 선릉역1호점', '살루쪼', '구이마마 대치점', '붓처스컷 삼성점', '맷카페', '일일향 삼성점', '이도곰탕 본점', '시골진지상', '청담동장독대 김치찌개', '구을가', '명인등심 삼성직영점', '베이징코야 역삼동점', '우밀면옥 상록점', '제주삼육돈 선릉직영점', '고기고샵 삼성역점', '로얄마카롱', '옛날농장', '사람사는고깃집김일도 선릉점', '마부육전 선릉직영점', '마구로젠', '스시쇼우키', '용호낙지 강남점', '유리카모메 선릉식당', '대우부대찌개', '커피빈 선릉로93길점', '신도세기 선릉점', '24시와구아구', '롤리폴리꼬또', '원조양평해장국', '순남시래기 역삼점', '노가리슈퍼 선릉점', '여수오동도', '스타벅스 선릉역점', '한앤둘치킨 선릉점', '르플로우', '달콤한고양이 대치점', '지아니스나폴리 역삼점', '비블레스', '청춘화로 선릉점', '에드빗커피', '마라공방 역삼점', '투썸플레이스 대치선릉점', '대독장 역삼점', '이태리부대찌개 역삼GS점', '천사의섬', '정통원조한방삼계탕', '강남본가가마골', '인기명 삼성점', '설빙 선릉점', '갈비삼대참숯구이전문 강남역삼점', '사람사는 고깃집 김일도 삼성코엑스점', '백운봉막국수 본점', '딸부자네불백 역삼점', '장쓰동', '맥도날드 강남삼성DT점', '롯데리아 선릉점', '대파집', '해담채 삼성점', '도원', '진가와 한국본점', '맘스터치 강남선릉점', '벽돌집60-5', '선릉본가 쭈꾸미와대패삼겹', '부타이', '경평면옥', '몰트바 배럴', '부엉이식당', '커피빈 선릉로86길점', '진대감 역삼점', '전통백암순대국 삼성점', '곰바위', '나주육곱식당 강남직영점', '오성식당', '투썸플레이스 선릉ING점', '다노이 선릉점', '던킨도너츠 선릉역점', '카페봄', '미성양꼬치 삼성점', '카페인더시티', '선릉을지순대국', '돼지연구소 선정릉직영점', '어람촌', '1260이베리코흑돼지 강남직영점', '강정희간장새우', '바게트K', '레드비틀', '모리향', '더차이홍 삼성점', '스타벅스 삼성점', '불이아 역삼점', '꽃새우영번지 역삼점', '박서방순대국밥 삼성본점', '신도세기 삼성역점', '진대감 삼성점', '타코벨 선릉점', '뱅가드와인머천트 강남점', '복돈이가마솥순대국', '브롱스 선릉점', '칠백식당 삼성직영점', '고반식당 삼성점', '르브런쉭 대치점', '남도구들한정식 본점', '포메인 선릉역점', '놀란치킨 선릉점', '파이어벨 대치점', '스미즈', '써브웨이 선릉점', '동대문엽기떡볶이 대치점', '김영태스시앤사시미마을 강남본점', '엔제리너스 선릉골드로즈점', '아오끼', '남산노포식당 선릉본점', '삼백집 역삼역점', '오더에스프레소', '호또치킨 강남본점', '볼빨간딱새우', '아우어베이커리 싸이더스점', '더차이나', '강남면옥 대치점', '마초갈비 선릉역점', '나무', '신라다랑원', '연스시', '젠제로', '화포식당 선릉점', '상아김밥 선릉직영점', '데쎄르룸', '껠끄쇼즈', '705사케집 선릉점', '영덕물회', '새집남원추어탕', '범표원두 역삼점', '분틀 선릉점', '리밍', '싸리골', '이태리부대찌개 선릉직영점', '지구당 현대타워점', '친친', '선릉궁중갈비탕곰탕', '금복당', '오징어청춘 대치본점', '한가네숯불닭갈비 역삼점', '희 카롱', '남도사계고운님', '신강양꼬치 선릉점', '카토멘 대치본점', '고갯마루', '우가네', '바나프레소 선릉역사거리점', '우밀가 안동국시 선릉점', '우리집', '카페413프로젝트', '용수사', '도쿄술집 선릉역점', '강남샤오츠', '써브웨이 삼성점', '선릉루킹래징', '쟈르뎅페르뒤', '능라도 강남점', '히라이 선릉점', '제주몬트락 한티점', '지구당 역삼두꺼비빌딩점', '동해식당', '스타벅스 르네상스사거리점', '60년전통 신촌황소곱창 선릉직영점', '초가집삼계탕', '큰돈가', '카메스시', '파리바게뜨 카페선릉점', '후웨이즈텐카민', '츄라우미 역삼본점', '우리집만두 선릉점', '신라스테이 역삼 카페', '이대성의진면목', '시골빈대떡파전 선릉본점', '순남시래기 서울선릉점', '생활맥주 선릉역점', '로네펠트', '교대이층집 선릉점', '해초록 별채사랑방', '보노보노플러스 삼성점', '신전떡볶이 대치점', '후지', '스타벅스 선릉로점', '스타벅스 선정릉역', '시추안하우스 삼성점', '아야진생태찌개 본점', '배스킨라빈스 선릉점', '김태완스시', '우노', '진수사', '배스킨라빈스 대치점', '마노디셰프 삼성점', '뚜레쥬르 카페선릉역점', '제주보쌈아강족발 선릉점', '갈맛집', '황태마을', '기네스하우스', '바른치킨 강남선릉점', '전주순대국', '선릉설렁탕', '전가네손칼국수', '스시유리', '담뿍화로된장찌개 대치점', '이가네양꼬치 선릉점', '한죽그리고삼계탕 본점', '대찬횟집', '고메램 삼성점', '파크루안 역삼점', '에그드랍 선릉역점', '한솥도시락 르네상스호텔사거리점', '호신각', '명가교동짬뽕 선릉2호점', '이남장', '이백 역삼점', '선릉가든', '원조한방정통삼계탕', '쇠뚜레', '파리바게뜨 선릉아이타워점', '에슬로우커피 선릉2호점', '윤가 역삼점', '오목집 한티점', '전주콩나물국밥', '무리무리', '일미집 강남직영점', '멍텅구리꼼장어막창 삼성동본점', '나향반점', '봉우리 역삼본점'} 318\n"
     ]
    }
   ],
   "metadata": {}
  },
  {
   "cell_type": "code",
   "execution_count": 10,
   "source": [
    "review_more_two = all_count[all_count[\"count\"] != 1]\n",
    "name_set = set(review_more_two.index)\n",
    "# ss_name_list = list(ss_names.intersection(name_list))\n",
    "# k_name_list = list(k_names.intersection(name_list))\n",
    "# m_name_list = list(m_names.intersection(name_list))\n",
    "print(name_set, len(name_set))"
   ],
   "outputs": [
    {
     "output_type": "stream",
     "name": "stdout",
     "text": [
      "{'스시소라', '해피해피케이크', '보영만두 선릉점', '포하임 선릉점', '쇼유식당', '수라선 역삼점', '하오', '우밀가 대치본점', '우마쿠라', '스타벅스 선릉동신빌딩R점', '조개천국', '동해수산', '쌍룡갈비', '빌리엔젤 신라스테이점', '잭슨피자 대치점', '경천애인2237', '판동면옥', '유하제과', '아카라', '뚝심한우 선릉역점', '장진참치', '도쿄등심 선릉점', '몰타참치', '인평일등추어탕', '광주식당', '화수사', '별양집', '모범떡볶이1976 선릉점', '제주은희네해장국 선릉직영점', '샹베리', '카발', '외고집설렁탕', '아리양', '한성양꼬치 선릉2호점', '잇쇼우', '양가식당', '오마치슌', '평가옥 삼성점', '본죽&비빔밥cafe 선릉점', '별미곳간', '의령전원', '더피자스탠드', '원조광양불고기 삼성점', '센도수산', '라무진 선릉역점', '부산양곱창', '애니홀', '칠랑고', '스시마이우 선릉역점', '어반81', '하오마라 선릉점', '강남수랏간', '진풍정 강남점', '미트앤번버거샵 강남점', '스노우폭스 선릉역점', '국고집', '고반식당 선릉점', '수다 대치점', '큰입아구찜', '니뽕내뽕 선릉점', '코벤트가든 선릉점', '빌리앤오티스', '샐러디 선릉점', '알로이타이', '통영집', '연', '가연', '이디야커피 선릉역점', '스시키', '돈그리아', '메이크샐러드 선릉점', '참치그라', '서래향', '하남돼지집 선릉1호점', '삼미대포 선릉점', '장정정', '커리146 강남점', '재패니즈다이닝안심', '어메이징타이', '청국장서갈비', '트라토리아모로', '세광양대창 선릉점', '스시산원', '대파양곱창', '반포식스 선릉역점', '예향', '샤오바오우육면', '한성양갈비구이', '전봇대', '잼라운지', '치찌중화식탁', '가나돈까스의집', '참치공간', '삼성동커피볶는집', '아야커피', '천용', '이승재참치', '홍백', '대치동집', '모찌방', '조개사냥', '스시노스시', '동보성 강남점', '블랙랩', '오또상스시', '쏭타이 역삼점', '달빛보쌈 논현점', '코르바니', '오징어풍경', '일미리금계찜닭 선릉점', '스타벅스 선릉세화빌딩점', '무한장어 역삼점', '선릉순대국', '창고43 역삼점', '김봉남포장마차 선릉점', '청자골', '홍대포', '청춘어람', '농민백암순대 본점', '명랑회관 선릉점', '남원추어탕', '카츠젠 선릉점', '마초야', '정참치', '비언유주얼', '비야게레로', '오카에리', '황금어장', '김돈이 본점', '조인바이트', '맥도날드 선릉점', '하얼빈가정식 본점', '신흥정육식당', '문어랑 상록점', '그릴1492 삼성1호점', '동래정 선릉직영점', '하루', '커피마마퀸 선릉점', '청춘닭볶이', '채린', '광수사', '대도식당 삼성점', '뽕나무쟁이 선릉본점', '로브니', '참치공방 선릉점', '미랑', '기세끼 선릉점', '미쓰양꼬치', '등촌샤브칼국수 선릉점', '지유가오카핫초메 선릉점', '군자대한곱창 선릉점', '연타발 선릉점', '세드라', '바스버거 선릉점', '고메홈', '어로장', '카페레이어스튜디오', '반룡산', '한미옥', '라피자노스트라', '해장옥', '하동관 강남분점', '마라테이블', '북창동순두부 선릉2호점', '풍년집 선릉점', '슐미랭삼 선릉점', '자유참치', '진대감 선릉점', '두레국수', '테라로사 포스코센터점', '마라차이즈', '버드나무집 역삼점', '겐비이자카야', '맛있는제주', '브라운돈까스 선릉점', '차호랑', '카페그라노', '투썸플레이스 테헤란선릉역점', '곰작골나주곰탕 선릉점', '고운님한우곱창', '선릉양조장족발', '육시리 선릉점'} 182\n"
     ]
    }
   ],
   "metadata": {}
  },
  {
   "cell_type": "code",
   "execution_count": 11,
   "source": [
    "review_more_two = all_count[all_count[\"count\"] != 1]\n",
    "name_list = list(review_more_two.index)\n",
    "# ss_name_list = list(ss_names.intersection(name_list))\n",
    "# k_name_list = list(k_names.intersection(name_list))\n",
    "# m_name_list = list(m_names.intersection(name_list))\n",
    "print(name_list, len(name_list))"
   ],
   "outputs": [
    {
     "output_type": "stream",
     "name": "stdout",
     "text": [
      "['가나돈까스의집', '가연', '강남수랏간', '겐비이자카야', '경천애인2237', '고메홈', '고반식당 선릉점', '고운님한우곱창', '곰작골나주곰탕 선릉점', '광수사', '광주식당', '국고집', '군자대한곱창 선릉점', '그릴1492 삼성1호점', '기세끼 선릉점', '김돈이 본점', '김봉남포장마차 선릉점', '남원추어탕', '농민백암순대 본점', '니뽕내뽕 선릉점', '달빛보쌈 논현점', '대도식당 삼성점', '대치동집', '대파양곱창', '더피자스탠드', '도쿄등심 선릉점', '도쿄등심 선릉점', '돈그리아', '동래정 선릉직영점', '동보성 강남점', '동해수산', '두레국수', '등촌샤브칼국수 선릉점', '뚝심한우 선릉역점', '라무진 선릉역점', '라피자노스트라', '로브니', '마라차이즈', '마라테이블', '마초야', '맛있는제주', '맥도날드 선릉점', '메이크샐러드 선릉점', '명랑회관 선릉점', '모범떡볶이1976 선릉점', '모찌방', '몰타참치', '무한장어 역삼점', '문어랑 상록점', '문어랑 상록점', '미랑', '미랑', '미쓰양꼬치', '미트앤번버거샵 강남점', '바스버거 선릉점', '반룡산', '반포식스 선릉역점', '버드나무집 역삼점', '별미곳간', '별양집', '별양집', '보영만두 선릉점', '본죽&비빔밥cafe 선릉점', '부산양곱창', '북창동순두부 선릉2호점', '브라운돈까스 선릉점', '블랙랩', '비야게레로', '비언유주얼', '빌리앤오티스', '빌리엔젤 신라스테이점', '뽕나무쟁이 선릉본점', '삼미대포 선릉점', '삼성동커피볶는집', '샐러디 선릉점', '샤오바오우육면', '샹베리', '서래향', '선릉순대국', '선릉양조장족발', '세광양대창 선릉점', '세드라', '센도수산', '쇼유식당', '수다 대치점', '수라선 역삼점', '슐미랭삼 선릉점', '스노우폭스 선릉역점', '스시노스시', '스시마이우 선릉역점', '스시산원', '스시소라', '스시키', '스타벅스 선릉동신빌딩R점', '스타벅스 선릉세화빌딩점', '신흥정육식당', '쌍룡갈비', '쏭타이 역삼점', '아리양', '아야커피', '아카라', '알로이타이', '애니홀', '양가식당', '어로장', '어메이징타이', '어반81', '연', '연타발 선릉점', '예향', '오또상스시', '오마치슌', '오징어풍경', '오카에리', '외고집설렁탕', '우마쿠라', '우밀가 대치본점', '원조광양불고기 삼성점', '유하제과', '육시리 선릉점', '의령전원', '이디야커피 선릉역점', '이승재참치', '인평일등추어탕', '일미리금계찜닭 선릉점', '잇쇼우', '자유참치', '장정정', '장진참치', '재패니즈다이닝안심', '잭슨피자 대치점', '잼라운지', '전봇대', '정참치', '제주은희네해장국 선릉직영점', '조개사냥', '조개천국', '조인바이트', '지유가오카핫초메 선릉점', '진대감 선릉점', '진풍정 강남점', '차호랑', '참치공간', '참치공방 선릉점', '참치그라', '창고43 역삼점', '채린', '천용', '청국장서갈비', '청자골', '청춘닭볶이', '청춘어람', '치찌중화식탁', '칠랑고', '카발', '카츠젠 선릉점', '카페그라노', '카페레이어스튜디오', '커리146 강남점', '커피마마퀸 선릉점', '코르바니', '코벤트가든 선릉점', '큰입아구찜', '테라로사 포스코센터점', '통영집', '투썸플레이스 테헤란선릉역점', '트라토리아모로', '판동면옥', '평가옥 삼성점', '포하임 선릉점', '풍년집 선릉점', '하남돼지집 선릉1호점', '하동관 강남분점', '하루', '하얼빈가정식 본점', '하오', '하오마라 선릉점', '한미옥', '한성양갈비구이', '한성양꼬치 선릉2호점', '해장옥', '해피해피케이크', '홍대포', '홍백', '화수사', '황금어장'] 186\n"
     ]
    }
   ],
   "metadata": {}
  },
  {
   "cell_type": "code",
   "execution_count": 12,
   "source": [
    "name_list = sorted(list(name_set))"
   ],
   "outputs": [],
   "metadata": {}
  },
  {
   "cell_type": "markdown",
   "source": [
    "# 2개 이상의 플랫폼에서 리뷰가 존재하는 리뷰만 모으기"
   ],
   "metadata": {}
  },
  {
   "cell_type": "code",
   "execution_count": 13,
   "source": [
    "k_review = k_review[k_review[\"name\"].isin(name_list)]\n",
    "print(k_review.info())\n",
    "k_review[\"name\"].nunique()"
   ],
   "outputs": [
    {
     "output_type": "stream",
     "name": "stdout",
     "text": [
      "<class 'pandas.core.frame.DataFrame'>\n",
      "Int64Index: 3015 entries, 0 to 7085\n",
      "Data columns (total 5 columns):\n",
      " #   Column       Non-Null Count  Dtype \n",
      "---  ------       --------------  ----- \n",
      " 0   platform     3015 non-null   object\n",
      " 1   name         3015 non-null   object\n",
      " 2   rating       3015 non-null   int64 \n",
      " 3   rating_date  3015 non-null   object\n",
      " 4   comment      3015 non-null   object\n",
      "dtypes: int64(1), object(4)\n",
      "memory usage: 141.3+ KB\n",
      "None\n"
     ]
    },
    {
     "output_type": "execute_result",
     "data": {
      "text/plain": [
       "182"
      ]
     },
     "metadata": {},
     "execution_count": 13
    }
   ],
   "metadata": {}
  },
  {
   "cell_type": "code",
   "execution_count": 14,
   "source": [
    "ss_review = ss_review[ss_review[\"name\"].isin(name_list)]\n",
    "print(ss_review.info())\n",
    "ss_review[\"name\"].nunique()"
   ],
   "outputs": [
    {
     "output_type": "stream",
     "name": "stdout",
     "text": [
      "<class 'pandas.core.frame.DataFrame'>\n",
      "Int64Index: 1197 entries, 4 to 2041\n",
      "Data columns (total 4 columns):\n",
      " #   Column    Non-Null Count  Dtype \n",
      "---  ------    --------------  ----- \n",
      " 0   platform  1197 non-null   object\n",
      " 1   name      1197 non-null   object\n",
      " 2   rating    1197 non-null   object\n",
      " 3   comment   1197 non-null   object\n",
      "dtypes: object(4)\n",
      "memory usage: 46.8+ KB\n",
      "None\n"
     ]
    },
    {
     "output_type": "execute_result",
     "data": {
      "text/plain": [
       "54"
      ]
     },
     "metadata": {},
     "execution_count": 14
    }
   ],
   "metadata": {}
  },
  {
   "cell_type": "code",
   "execution_count": 15,
   "source": [
    "m_review = m_review[m_review[\"name\"].isin(name_list)]\n",
    "print(m_review.info())\n",
    "m_review[\"name\"].nunique()"
   ],
   "outputs": [
    {
     "output_type": "stream",
     "name": "stdout",
     "text": [
      "<class 'pandas.core.frame.DataFrame'>\n",
      "Int64Index: 910 entries, 0 to 2922\n",
      "Data columns (total 4 columns):\n",
      " #   Column       Non-Null Count  Dtype \n",
      "---  ------       --------------  ----- \n",
      " 0   name         910 non-null    object\n",
      " 1   rating_date  910 non-null    object\n",
      " 2   comment      910 non-null    object\n",
      " 3   rating       910 non-null    int64 \n",
      "dtypes: int64(1), object(3)\n",
      "memory usage: 35.5+ KB\n",
      "None\n"
     ]
    },
    {
     "output_type": "execute_result",
     "data": {
      "text/plain": [
       "62"
      ]
     },
     "metadata": {},
     "execution_count": 15
    }
   ],
   "metadata": {}
  },
  {
   "cell_type": "code",
   "execution_count": 16,
   "source": [
    "n_review = n_review[n_review[\"name\"].isin(name_list)]\n",
    "print(n_review.info())\n",
    "n_review[\"name\"].nunique()"
   ],
   "outputs": [
    {
     "output_type": "stream",
     "name": "stdout",
     "text": [
      "<class 'pandas.core.frame.DataFrame'>\n",
      "Int64Index: 13203 entries, 51 to 20972\n",
      "Data columns (total 4 columns):\n",
      " #   Column       Non-Null Count  Dtype  \n",
      "---  ------       --------------  -----  \n",
      " 0   name         13203 non-null  object \n",
      " 1   rating_date  13203 non-null  object \n",
      " 2   comment      12946 non-null  object \n",
      " 3   rating       13203 non-null  float64\n",
      "dtypes: float64(1), object(3)\n",
      "memory usage: 515.7+ KB\n",
      "None\n"
     ]
    },
    {
     "output_type": "execute_result",
     "data": {
      "text/plain": [
       "76"
      ]
     },
     "metadata": {},
     "execution_count": 16
    }
   ],
   "metadata": {}
  },
  {
   "cell_type": "markdown",
   "source": [
    "# 카테고리 분류하기"
   ],
   "metadata": {}
  },
  {
   "cell_type": "code",
   "execution_count": 17,
   "source": [
    "k_data_index_name = k_data.set_index(\"name\")\n",
    "all_count[\"category\"] = k_data_index_name[\"category\"]\n",
    "all_count.head(20)"
   ],
   "outputs": [
    {
     "output_type": "execute_result",
     "data": {
      "text/html": [
       "<div>\n",
       "<style scoped>\n",
       "    .dataframe tbody tr th:only-of-type {\n",
       "        vertical-align: middle;\n",
       "    }\n",
       "\n",
       "    .dataframe tbody tr th {\n",
       "        vertical-align: top;\n",
       "    }\n",
       "\n",
       "    .dataframe thead th {\n",
       "        text-align: right;\n",
       "    }\n",
       "</style>\n",
       "<table border=\"1\" class=\"dataframe\">\n",
       "  <thead>\n",
       "    <tr style=\"text-align: right;\">\n",
       "      <th></th>\n",
       "      <th>count</th>\n",
       "      <th>category</th>\n",
       "    </tr>\n",
       "    <tr>\n",
       "      <th>name</th>\n",
       "      <th></th>\n",
       "      <th></th>\n",
       "    </tr>\n",
       "  </thead>\n",
       "  <tbody>\n",
       "    <tr>\n",
       "      <th>1260이베리코흑돼지 강남직영점</th>\n",
       "      <td>1</td>\n",
       "      <td>육류,고기</td>\n",
       "    </tr>\n",
       "    <tr>\n",
       "      <th>24시와구아구</th>\n",
       "      <td>1</td>\n",
       "      <td>아구</td>\n",
       "    </tr>\n",
       "    <tr>\n",
       "      <th>60년전통 신촌황소곱창 선릉직영점</th>\n",
       "      <td>1</td>\n",
       "      <td>곱창,막창</td>\n",
       "    </tr>\n",
       "    <tr>\n",
       "      <th>7%칠백식당 포스코직영점</th>\n",
       "      <td>1</td>\n",
       "      <td>육류,고기</td>\n",
       "    </tr>\n",
       "    <tr>\n",
       "      <th>705사케집 선릉점</th>\n",
       "      <td>1</td>\n",
       "      <td>일본식주점</td>\n",
       "    </tr>\n",
       "    <tr>\n",
       "      <th>88노가리 선릉본점</th>\n",
       "      <td>1</td>\n",
       "      <td>호프,요리주점</td>\n",
       "    </tr>\n",
       "    <tr>\n",
       "      <th>CSI VR방탈출카페 대치선릉점</th>\n",
       "      <td>1</td>\n",
       "      <td>테마카페</td>\n",
       "    </tr>\n",
       "    <tr>\n",
       "      <th>JVL부대찌개 포스코점</th>\n",
       "      <td>1</td>\n",
       "      <td>찌개,전골</td>\n",
       "    </tr>\n",
       "    <tr>\n",
       "      <th>가나돈까스의집</th>\n",
       "      <td>2</td>\n",
       "      <td>돈까스,우동</td>\n",
       "    </tr>\n",
       "    <tr>\n",
       "      <th>가연</th>\n",
       "      <td>2</td>\n",
       "      <td>국수</td>\n",
       "    </tr>\n",
       "    <tr>\n",
       "      <th>갈맛집</th>\n",
       "      <td>1</td>\n",
       "      <td>갈비</td>\n",
       "    </tr>\n",
       "    <tr>\n",
       "      <th>갈비삼대참숯구이전문 강남역삼점</th>\n",
       "      <td>1</td>\n",
       "      <td>갈비</td>\n",
       "    </tr>\n",
       "    <tr>\n",
       "      <th>강남면옥 대치점</th>\n",
       "      <td>1</td>\n",
       "      <td>냉면</td>\n",
       "    </tr>\n",
       "    <tr>\n",
       "      <th>강남묵호등대</th>\n",
       "      <td>1</td>\n",
       "      <td>회</td>\n",
       "    </tr>\n",
       "    <tr>\n",
       "      <th>강남본가가마골</th>\n",
       "      <td>1</td>\n",
       "      <td>육류,고기</td>\n",
       "    </tr>\n",
       "    <tr>\n",
       "      <th>강남샤오츠</th>\n",
       "      <td>1</td>\n",
       "      <td>중식</td>\n",
       "    </tr>\n",
       "    <tr>\n",
       "      <th>강남수랏간</th>\n",
       "      <td>3</td>\n",
       "      <td>육류,고기</td>\n",
       "    </tr>\n",
       "    <tr>\n",
       "      <th>강정희간장새우</th>\n",
       "      <td>1</td>\n",
       "      <td>해물,생선</td>\n",
       "    </tr>\n",
       "    <tr>\n",
       "      <th>개그맨정용국의용곱창</th>\n",
       "      <td>1</td>\n",
       "      <td>곱창,막창</td>\n",
       "    </tr>\n",
       "    <tr>\n",
       "      <th>겐비이자카야</th>\n",
       "      <td>2</td>\n",
       "      <td>일본식주점</td>\n",
       "    </tr>\n",
       "  </tbody>\n",
       "</table>\n",
       "</div>"
      ],
      "text/plain": [
       "                    count category\n",
       "name                              \n",
       "1260이베리코흑돼지 강남직영점       1    육류,고기\n",
       "24시와구아구                 1       아구\n",
       "60년전통 신촌황소곱창 선릉직영점      1    곱창,막창\n",
       "7%칠백식당 포스코직영점           1    육류,고기\n",
       "705사케집 선릉점              1    일본식주점\n",
       "88노가리 선릉본점              1  호프,요리주점\n",
       "CSI VR방탈출카페 대치선릉점       1     테마카페\n",
       "JVL부대찌개 포스코점            1    찌개,전골\n",
       "가나돈까스의집                 2   돈까스,우동\n",
       "가연                      2       국수\n",
       "갈맛집                     1       갈비\n",
       "갈비삼대참숯구이전문 강남역삼점        1       갈비\n",
       "강남면옥 대치점                1       냉면\n",
       "강남묵호등대                  1        회\n",
       "강남본가가마골                 1    육류,고기\n",
       "강남샤오츠                   1       중식\n",
       "강남수랏간                   3    육류,고기\n",
       "강정희간장새우                 1    해물,생선\n",
       "개그맨정용국의용곱창              1    곱창,막창\n",
       "겐비이자카야                  2    일본식주점"
      ]
     },
     "metadata": {},
     "execution_count": 17
    }
   ],
   "metadata": {}
  },
  {
   "cell_type": "code",
   "execution_count": 18,
   "source": [
    "all_cat_count = pd.DataFrame(all_count.reset_index().groupby(\"category\").size())\n",
    "all_cat_count.info()"
   ],
   "outputs": [
    {
     "output_type": "stream",
     "name": "stdout",
     "text": [
      "<class 'pandas.core.frame.DataFrame'>\n",
      "Index: 76 entries, 갈비 to 회\n",
      "Data columns (total 1 columns):\n",
      " #   Column  Non-Null Count  Dtype\n",
      "---  ------  --------------  -----\n",
      " 0   0       76 non-null     int64\n",
      "dtypes: int64(1)\n",
      "memory usage: 1.2+ KB\n"
     ]
    }
   ],
   "metadata": {}
  },
  {
   "cell_type": "code",
   "execution_count": 19,
   "source": [
    "print(all_cat_count.index)"
   ],
   "outputs": [
    {
     "output_type": "stream",
     "name": "stdout",
     "text": [
      "Index(['갈비', '감자탕', '곰탕', '곱창,막창', '국밥', '국수', '냉면', '닭요리', '도넛', '도시락',\n",
      "       '돈까스,우동', '동남아음식', '두부전문점', '디저트카페', '떡볶이', '만화카페', '매운탕,해물탕',\n",
      "       '멕시칸,브라질', '베트남음식', '복어', '분식', '불고기,두루치기', '뷔페', '사주카페', '삼겹살', '삼계탕',\n",
      "       '샌드위치', '샐러드', '샤브샤브', '설렁탕', '순대', '술집', '스테이크,립', '실내포장마차', '아구',\n",
      "       '아이스크림', '양꼬치', '양식', '와인바', '육류,고기', '이탈리안', '인도음식', '일본식라면', '일본식주점',\n",
      "       '일식', '일식집', '장어', '제과,베이커리', '조개', '족발,보쌈', '죽', '중식', '중화요리', '찌개,전골',\n",
      "       '참치회', '초밥,롤', '추어', '치킨', '카페', '커피전문점', '태국음식', '테마카페', '패밀리레스토랑',\n",
      "       '패스트푸드', '퓨전요리', '퓨전일식', '퓨전한식', '피자', '한식', '한정식', '해물,생선', '해산물뷔페',\n",
      "       '해장국', '햄버거', '호프,요리주점', '회'],\n",
      "      dtype='object', name='category')\n"
     ]
    }
   ],
   "metadata": {}
  },
  {
   "cell_type": "code",
   "execution_count": 32,
   "source": [
    "repl_dict = {'감자탕':'한식', '곰탕':'보양식', '도넛':'제과,베이커리', '도시락':'간편식', '동남아음식':'해외음식', '두부전문점':'한식', '디저트카페':'디저트', '만화카페':'카페', '매운탕,해물탕':'해물,생선', '멕시칸,브라질':'해외음식', '베트남음식':'국수', '복어':'보양식', '불고기,두루치기':'한식', '뷔페':'카페', '사주카페':'카페', '삼겹살':'육류,고기', '삼계탕':'보양식', '샐러드':'간편식', '샌드위치':'간편식', '샤브샤브':'보양식', '설렁탕':'보양식', '스테이크,립':'양식', '실내포장마차':'술집', '아구':'해물,생선', '아이스크림':'디저트', '와인바':'술집', '이탈리안':'이탈리아음식', '인도음식':'해외음식', '일본식라면':'일식', '일본식주점':'술집', '일식집':'일식', '장어':'해물,생선', '조개':'해물,생선', '죽':'한식', '추어':'해물,생선', '커피전문점':'카페', '태국음식':'해외음식', '테마카페':'카페', '패밀리레스토랑':'양식', '퓨전일식':'퓨전요리', '퓨전한식':'퓨전요리', '피자':'이탈리아음식', '해산물뷔페':'해물,생선', '해장국':'국밥', '햄버거':'패스트푸드', '호프,요리주점':'술집'}\n",
    "all_count[\"category\"] = all_count[\"category\"].replace(repl_dict)\n",
    "all_count.to_csv(\"all_name_category.csv\")"
   ],
   "outputs": [],
   "metadata": {}
  },
  {
   "cell_type": "code",
   "execution_count": 21,
   "source": [
    "all_cat_count = pd.DataFrame(all_count.reset_index().groupby(\"category\").size())\n",
    "all_cat_count"
   ],
   "outputs": [
    {
     "output_type": "execute_result",
     "data": {
      "text/html": [
       "<div>\n",
       "<style scoped>\n",
       "    .dataframe tbody tr th:only-of-type {\n",
       "        vertical-align: middle;\n",
       "    }\n",
       "\n",
       "    .dataframe tbody tr th {\n",
       "        vertical-align: top;\n",
       "    }\n",
       "\n",
       "    .dataframe thead th {\n",
       "        text-align: right;\n",
       "    }\n",
       "</style>\n",
       "<table border=\"1\" class=\"dataframe\">\n",
       "  <thead>\n",
       "    <tr style=\"text-align: right;\">\n",
       "      <th></th>\n",
       "      <th>0</th>\n",
       "    </tr>\n",
       "    <tr>\n",
       "      <th>category</th>\n",
       "      <th></th>\n",
       "    </tr>\n",
       "  </thead>\n",
       "  <tbody>\n",
       "    <tr>\n",
       "      <th>간편식</th>\n",
       "      <td>5</td>\n",
       "    </tr>\n",
       "    <tr>\n",
       "      <th>갈비</th>\n",
       "      <td>8</td>\n",
       "    </tr>\n",
       "    <tr>\n",
       "      <th>곱창,막창</th>\n",
       "      <td>15</td>\n",
       "    </tr>\n",
       "    <tr>\n",
       "      <th>국밥</th>\n",
       "      <td>6</td>\n",
       "    </tr>\n",
       "    <tr>\n",
       "      <th>국수</th>\n",
       "      <td>8</td>\n",
       "    </tr>\n",
       "    <tr>\n",
       "      <th>냉면</th>\n",
       "      <td>6</td>\n",
       "    </tr>\n",
       "    <tr>\n",
       "      <th>닭요리</th>\n",
       "      <td>5</td>\n",
       "    </tr>\n",
       "    <tr>\n",
       "      <th>돈까스,우동</th>\n",
       "      <td>6</td>\n",
       "    </tr>\n",
       "    <tr>\n",
       "      <th>디저트</th>\n",
       "      <td>17</td>\n",
       "    </tr>\n",
       "    <tr>\n",
       "      <th>떡볶이</th>\n",
       "      <td>5</td>\n",
       "    </tr>\n",
       "    <tr>\n",
       "      <th>보양식</th>\n",
       "      <td>15</td>\n",
       "    </tr>\n",
       "    <tr>\n",
       "      <th>분식</th>\n",
       "      <td>6</td>\n",
       "    </tr>\n",
       "    <tr>\n",
       "      <th>순대</th>\n",
       "      <td>8</td>\n",
       "    </tr>\n",
       "    <tr>\n",
       "      <th>술집</th>\n",
       "      <td>28</td>\n",
       "    </tr>\n",
       "    <tr>\n",
       "      <th>양꼬치</th>\n",
       "      <td>7</td>\n",
       "    </tr>\n",
       "    <tr>\n",
       "      <th>양식</th>\n",
       "      <td>7</td>\n",
       "    </tr>\n",
       "    <tr>\n",
       "      <th>육류,고기</th>\n",
       "      <td>73</td>\n",
       "    </tr>\n",
       "    <tr>\n",
       "      <th>이탈리아음식</th>\n",
       "      <td>12</td>\n",
       "    </tr>\n",
       "    <tr>\n",
       "      <th>일식</th>\n",
       "      <td>32</td>\n",
       "    </tr>\n",
       "    <tr>\n",
       "      <th>제과,베이커리</th>\n",
       "      <td>10</td>\n",
       "    </tr>\n",
       "    <tr>\n",
       "      <th>족발,보쌈</th>\n",
       "      <td>8</td>\n",
       "    </tr>\n",
       "    <tr>\n",
       "      <th>중식</th>\n",
       "      <td>8</td>\n",
       "    </tr>\n",
       "    <tr>\n",
       "      <th>중화요리</th>\n",
       "      <td>24</td>\n",
       "    </tr>\n",
       "    <tr>\n",
       "      <th>찌개,전골</th>\n",
       "      <td>7</td>\n",
       "    </tr>\n",
       "    <tr>\n",
       "      <th>참치회</th>\n",
       "      <td>7</td>\n",
       "    </tr>\n",
       "    <tr>\n",
       "      <th>초밥,롤</th>\n",
       "      <td>12</td>\n",
       "    </tr>\n",
       "    <tr>\n",
       "      <th>치킨</th>\n",
       "      <td>5</td>\n",
       "    </tr>\n",
       "    <tr>\n",
       "      <th>카페</th>\n",
       "      <td>55</td>\n",
       "    </tr>\n",
       "    <tr>\n",
       "      <th>패스트푸드</th>\n",
       "      <td>9</td>\n",
       "    </tr>\n",
       "    <tr>\n",
       "      <th>퓨전요리</th>\n",
       "      <td>6</td>\n",
       "    </tr>\n",
       "    <tr>\n",
       "      <th>한식</th>\n",
       "      <td>27</td>\n",
       "    </tr>\n",
       "    <tr>\n",
       "      <th>한정식</th>\n",
       "      <td>7</td>\n",
       "    </tr>\n",
       "    <tr>\n",
       "      <th>해물,생선</th>\n",
       "      <td>32</td>\n",
       "    </tr>\n",
       "    <tr>\n",
       "      <th>해외음식</th>\n",
       "      <td>7</td>\n",
       "    </tr>\n",
       "    <tr>\n",
       "      <th>회</th>\n",
       "      <td>11</td>\n",
       "    </tr>\n",
       "  </tbody>\n",
       "</table>\n",
       "</div>"
      ],
      "text/plain": [
       "           0\n",
       "category    \n",
       "간편식        5\n",
       "갈비         8\n",
       "곱창,막창     15\n",
       "국밥         6\n",
       "국수         8\n",
       "냉면         6\n",
       "닭요리        5\n",
       "돈까스,우동     6\n",
       "디저트       17\n",
       "떡볶이        5\n",
       "보양식       15\n",
       "분식         6\n",
       "순대         8\n",
       "술집        28\n",
       "양꼬치        7\n",
       "양식         7\n",
       "육류,고기     73\n",
       "이탈리아음식    12\n",
       "일식        32\n",
       "제과,베이커리   10\n",
       "족발,보쌈      8\n",
       "중식         8\n",
       "중화요리      24\n",
       "찌개,전골      7\n",
       "참치회        7\n",
       "초밥,롤      12\n",
       "치킨         5\n",
       "카페        55\n",
       "패스트푸드      9\n",
       "퓨전요리       6\n",
       "한식        27\n",
       "한정식        7\n",
       "해물,생선     32\n",
       "해외음식       7\n",
       "회         11"
      ]
     },
     "metadata": {},
     "execution_count": 21
    }
   ],
   "metadata": {}
  },
  {
   "cell_type": "code",
   "execution_count": null,
   "source": [],
   "outputs": [],
   "metadata": {}
  },
  {
   "cell_type": "code",
   "execution_count": null,
   "source": [],
   "outputs": [],
   "metadata": {}
  },
  {
   "cell_type": "code",
   "execution_count": null,
   "source": [],
   "outputs": [],
   "metadata": {}
  },
  {
   "cell_type": "markdown",
   "source": [
    "# 메뉴 종류 파악해보기"
   ],
   "metadata": {}
  },
  {
   "cell_type": "code",
   "execution_count": 22,
   "source": [
    "os.chdir('../kakao')\n",
    "menus = pd.read_csv(\"kakao_restaurant_menu.csv\", header=0, names=[\"name\",\"menu\"], usecols=[1, 2])\n",
    "\n",
    "os.chdir(\"../data_analysis\")\n",
    "menus = menus[menus[\"name\"].isin(name_list)]\n",
    "\n",
    "# menu 누락 식당 - ['고운님한우곱창', '등촌샤브칼국수 선릉점', '명랑회관 선릉점','본죽&비빔밥cafe 선릉점', '쇼유식당',  '예향', '오또상스시', '원조광양불고기 삼성점', '유하제과', '코르바니', '하남돼지집 선릉1호점', ]\n",
    "print(sorted(list(menus[\"name\"].unique())))"
   ],
   "outputs": [
    {
     "output_type": "stream",
     "name": "stdout",
     "text": [
      "['가나돈까스의집', '가연', '강남수랏간', '겐비이자카야', '경천애인2237', '고메홈', '고반식당 선릉점', '곰작골나주곰탕 선릉점', '광수사', '광주식당', '국고집', '군자대한곱창 선릉점', '그릴1492 삼성1호점', '기세끼 선릉점', '김돈이 본점', '김봉남포장마차 선릉점', '남원추어탕', '농민백암순대 본점', '니뽕내뽕 선릉점', '달빛보쌈 논현점', '대도식당 삼성점', '대치동집', '대파양곱창', '더피자스탠드', '도쿄등심 선릉점', '돈그리아', '동래정 선릉직영점', '동보성 강남점', '동해수산', '두레국수', '뚝심한우 선릉역점', '라무진 선릉역점', '라피자노스트라', '로브니', '마라차이즈', '마라테이블', '마초야', '맛있는제주', '맥도날드 선릉점', '메이크샐러드 선릉점', '모범떡볶이1976 선릉점', '모찌방', '몰타참치', '무한장어 역삼점', '문어랑 상록점', '미랑', '미쓰양꼬치', '미트앤번버거샵 강남점', '바스버거 선릉점', '반룡산', '반포식스 선릉역점', '버드나무집 역삼점', '별미곳간', '별양집', '보영만두 선릉점', '부산양곱창', '북창동순두부 선릉2호점', '브라운돈까스 선릉점', '블랙랩', '비야게레로', '비언유주얼', '빌리앤오티스', '빌리엔젤 신라스테이점', '뽕나무쟁이 선릉본점', '삼미대포 선릉점', '삼성동커피볶는집', '샐러디 선릉점', '샤오바오우육면', '샹베리', '서래향', '선릉순대국', '선릉양조장족발', '세광양대창 선릉점', '세드라', '센도수산', '수다 대치점', '수라선 역삼점', '슐미랭삼 선릉점', '스노우폭스 선릉역점', '스시노스시', '스시마이우 선릉역점', '스시산원', '스시소라', '스시키', '스타벅스 선릉동신빌딩R점', '스타벅스 선릉세화빌딩점', '신흥정육식당', '쌍룡갈비', '쏭타이 역삼점', '아리양', '아야커피', '아카라', '알로이타이', '애니홀', '양가식당', '어로장', '어메이징타이', '어반81', '연', '연타발 선릉점', '오마치슌', '오징어풍경', '오카에리', '외고집설렁탕', '우마쿠라', '우밀가 대치본점', '육시리 선릉점', '의령전원', '이디야커피 선릉역점', '이승재참치', '인평일등추어탕', '일미리금계찜닭 선릉점', '잇쇼우', '자유참치', '장정정', '장진참치', '재패니즈다이닝안심', '잭슨피자 대치점', '잼라운지', '전봇대', '정참치', '제주은희네해장국 선릉직영점', '조개사냥', '조개천국', '조인바이트', '지유가오카핫초메 선릉점', '진대감 선릉점', '진풍정 강남점', '차호랑', '참치공간', '참치공방 선릉점', '참치그라', '창고43 역삼점', '채린', '천용', '청국장서갈비', '청자골', '청춘닭볶이', '청춘어람', '치찌중화식탁', '칠랑고', '카발', '카츠젠 선릉점', '카페그라노', '카페레이어스튜디오', '커리146 강남점', '커피마마퀸 선릉점', '코벤트가든 선릉점', '큰입아구찜', '테라로사 포스코센터점', '통영집', '투썸플레이스 테헤란선릉역점', '트라토리아모로', '판동면옥', '평가옥 삼성점', '포하임 선릉점', '풍년집 선릉점', '하동관 강남분점', '하루', '하얼빈가정식 본점', '하오', '하오마라 선릉점', '한미옥', '한성양갈비구이', '한성양꼬치 선릉2호점', '해장옥', '해피해피케이크', '홍대포', '홍백', '화수사', '황금어장']\n"
     ]
    }
   ],
   "metadata": {}
  },
  {
   "cell_type": "code",
   "execution_count": 23,
   "source": [
    "menus.info()"
   ],
   "outputs": [
    {
     "output_type": "stream",
     "name": "stdout",
     "text": [
      "<class 'pandas.core.frame.DataFrame'>\n",
      "Int64Index: 1150 entries, 0 to 3181\n",
      "Data columns (total 2 columns):\n",
      " #   Column  Non-Null Count  Dtype \n",
      "---  ------  --------------  ----- \n",
      " 0   name    1150 non-null   object\n",
      " 1   menu    1150 non-null   object\n",
      "dtypes: object(2)\n",
      "memory usage: 27.0+ KB\n"
     ]
    }
   ],
   "metadata": {}
  },
  {
   "cell_type": "code",
   "execution_count": 24,
   "source": [
    "menus[\"menu\"] = menus.menu.str.split(\"(\").str[0].str.strip(\" \")\n",
    "menus.drop_duplicates(inplace=True)\n",
    "print(menus[\"menu\"].nunique())\n",
    "menus.info()"
   ],
   "outputs": [
    {
     "output_type": "stream",
     "name": "stdout",
     "text": [
      "966\n",
      "<class 'pandas.core.frame.DataFrame'>\n",
      "Int64Index: 1097 entries, 0 to 3181\n",
      "Data columns (total 2 columns):\n",
      " #   Column  Non-Null Count  Dtype \n",
      "---  ------  --------------  ----- \n",
      " 0   name    1097 non-null   object\n",
      " 1   menu    1097 non-null   object\n",
      "dtypes: object(2)\n",
      "memory usage: 25.7+ KB\n"
     ]
    }
   ],
   "metadata": {}
  },
  {
   "cell_type": "code",
   "execution_count": 25,
   "source": [
    "print(menus[\"menu\"].nunique())"
   ],
   "outputs": [
    {
     "output_type": "stream",
     "name": "stdout",
     "text": [
      "966\n"
     ]
    }
   ],
   "metadata": {}
  },
  {
   "cell_type": "code",
   "execution_count": 26,
   "source": [
    "menus.value_counts()"
   ],
   "outputs": [
    {
     "output_type": "execute_result",
     "data": {
      "text/plain": [
       "name     menu    \n",
       "가나돈까스의집  돈까스         1\n",
       "외고집설렁탕   도가니탕        1\n",
       "우마쿠라     사케벤또        1\n",
       "         매운삼겹 전복찜    1\n",
       "외고집설렁탕   육개장         1\n",
       "                    ..\n",
       "부산양곱창    된장찌개        1\n",
       "         야콘냉면        1\n",
       "         양구이         1\n",
       "         양김치볶음밥      1\n",
       "황금어장     알탕          1\n",
       "Length: 1097, dtype: int64"
      ]
     },
     "metadata": {},
     "execution_count": 26
    }
   ],
   "metadata": {}
  },
  {
   "cell_type": "code",
   "execution_count": null,
   "source": [],
   "outputs": [],
   "metadata": {}
  },
  {
   "cell_type": "code",
   "execution_count": 27,
   "source": [
    "from collections import Counter\n",
    "from wordcloud import WordCloud,STOPWORDS\n",
    "from konlpy.tag import Okt\n",
    "import matplotlib.pyplot as plt\n",
    "\n",
    "%matplotlib inline\n",
    "okt = Okt()"
   ],
   "outputs": [
    {
     "output_type": "stream",
     "name": "stdout",
     "text": [
      "[0.003s][warning][os,thread] Attempt to protect stack guard pages failed (0x000000016b5b8000-0x000000016b5c4000).\n",
      "[0.003s][warning][os,thread] Attempt to deallocate stack guard pages failed.\n"
     ]
    }
   ],
   "metadata": {}
  },
  {
   "cell_type": "code",
   "execution_count": 28,
   "source": [
    "words = okt.pos('한국어분석 스타트해보실까나?')\n",
    "cnt = Counter(words)\n",
    "cnt"
   ],
   "outputs": [
    {
     "output_type": "execute_result",
     "data": {
      "text/plain": [
       "Counter({('한국어', 'Noun'): 1,\n",
       "         ('분석', 'Noun'): 1,\n",
       "         ('스타트', 'Noun'): 1,\n",
       "         ('해보실까', 'Verb'): 1,\n",
       "         ('나', 'Noun'): 1,\n",
       "         ('?', 'Punctuation'): 1})"
      ]
     },
     "metadata": {},
     "execution_count": 28
    }
   ],
   "metadata": {}
  },
  {
   "cell_type": "code",
   "execution_count": 29,
   "source": [
    "wc = WordCloud(background_color=\"#ffffff\", width=1000, height=1000, max_font_size=300, max_words=1000, font_path=\"HangeulNuriR.ttf\")"
   ],
   "outputs": [],
   "metadata": {}
  },
  {
   "cell_type": "code",
   "execution_count": 30,
   "source": [
    "test = wc.generate_from_text(str(n_review[\"comment\"]))\n",
    "plt.imshow(test)\n",
    "plt.axis(\"off\")\n",
    "plt.show()"
   ],
   "outputs": [
    {
     "output_type": "display_data",
     "data": {
      "image/png": "[encoded data removed]",
      "text/plain": [
       "<Figure size 432x288 with 1 Axes>"
      ]
     },
     "metadata": {
      "needs_background": "light"
     }
    }
   ],
   "metadata": {}
  },
  {
   "cell_type": "code",
   "execution_count": 31,
   "source": [
    "# wc.to_file(\"test.png\")"
   ],
   "outputs": [],
   "metadata": {}
  },
  {
   "cell_type": "code",
   "execution_count": null,
   "source": [],
   "outputs": [],
   "metadata": {}
  }
 ],
 "metadata": {
  "orig_nbformat": 4,
  "language_info": {
   "name": "python",
   "version": "3.9.7",
   "mimetype": "text/x-python",
   "codemirror_mode": {
    "name": "ipython",
    "version": 3
   },
   "pygments_lexer": "ipython3",
   "nbconvert_exporter": "python",
   "file_extension": ".py"
  },
  "kernelspec": {
   "name": "python3",
   "display_name": "Python 3.9.7 64-bit ('delivery': conda)"
  },
  "interpreter": {
   "hash": "46d1000c09464e93fb82c82facef9f39bd5cbe64c1a63133cf55523e5cc8c1c4"
  }
 },
 "nbformat": 4,
 "nbformat_minor": 2
}